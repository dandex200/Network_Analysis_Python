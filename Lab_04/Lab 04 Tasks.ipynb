{
 "cells": [
  {
   "cell_type": "markdown",
   "metadata": {},
   "source": [
    "# Lab 04 Tasks"
   ]
  },
  {
   "cell_type": "markdown",
   "metadata": {},
   "source": [
    "This task involves working with a dataset which contains information about contacts between patients and health-care workers in a hospital ward in France. The data was gathered using wearable sensors which were able to detect face-to-face close range proximity of participants wearing the sensors.\n",
    "\n",
    "For more details see:\n",
    "\n",
    "- http://www.sociopatterns.org/datasets/hospital-ward-dynamic-contact-network/\n",
    "- Génois, M., & Barrat, A. Can co-location be used as a proxy for face-to-face contacts?. EPJ Data Science, 7(1), 11. (2018)\n",
    "\n",
    "The raw data is provided as 2 tab-separated files:*\n",
    "\n",
    "1. *hospital-metadata.csv: One line per participant in the hospital ward, where each participant as a unique numeric ID and a \"status\" (e.g. patient, doctor etc).\n",
    "2. *hospital-contacts.csv*: Each line indicates a contact event between two participants, with the time of the event and the numeric IDs of the participants involved."
   ]
  },
  {
   "cell_type": "markdown",
   "metadata": {},
   "source": [
    "### Task 1"
   ]
  },
  {
   "cell_type": "markdown",
   "metadata": {},
   "source": [
    "Load the hospital metadata and contact data into two separate Pandas Data Frames."
   ]
  },
  {
   "cell_type": "code",
   "execution_count": 3,
   "metadata": {},
   "outputs": [
    {
     "data": {
      "text/html": [
       "<div>\n",
       "<style scoped>\n",
       "    .dataframe tbody tr th:only-of-type {\n",
       "        vertical-align: middle;\n",
       "    }\n",
       "\n",
       "    .dataframe tbody tr th {\n",
       "        vertical-align: top;\n",
       "    }\n",
       "\n",
       "    .dataframe thead th {\n",
       "        text-align: right;\n",
       "    }\n",
       "</style>\n",
       "<table border=\"1\" class=\"dataframe\">\n",
       "  <thead>\n",
       "    <tr style=\"text-align: right;\">\n",
       "      <th></th>\n",
       "      <th>status</th>\n",
       "    </tr>\n",
       "    <tr>\n",
       "      <th>participant_id</th>\n",
       "      <th></th>\n",
       "    </tr>\n",
       "  </thead>\n",
       "  <tbody>\n",
       "    <tr>\n",
       "      <th>1179</th>\n",
       "      <td>admin</td>\n",
       "    </tr>\n",
       "    <tr>\n",
       "      <th>1232</th>\n",
       "      <td>admin</td>\n",
       "    </tr>\n",
       "    <tr>\n",
       "      <th>1658</th>\n",
       "      <td>admin</td>\n",
       "    </tr>\n",
       "    <tr>\n",
       "      <th>1209</th>\n",
       "      <td>admin</td>\n",
       "    </tr>\n",
       "    <tr>\n",
       "      <th>1098</th>\n",
       "      <td>admin</td>\n",
       "    </tr>\n",
       "  </tbody>\n",
       "</table>\n",
       "</div>"
      ],
      "text/plain": [
       "               status\n",
       "participant_id       \n",
       "1179            admin\n",
       "1232            admin\n",
       "1658            admin\n",
       "1209            admin\n",
       "1098            admin"
      ]
     },
     "execution_count": 3,
     "metadata": {},
     "output_type": "execute_result"
    }
   ],
   "source": [
    "import pandas as pd\n",
    "\n",
    "df_metadata = pd.read_csv(\"lab04-data/hospital-metadata.csv\", sep=\"\\t\").set_index(\"participant_id\")\n",
    "\n",
    "df_metadata.head()"
   ]
  },
  {
   "cell_type": "code",
   "execution_count": 5,
   "metadata": {},
   "outputs": [
    {
     "data": {
      "text/html": [
       "<div>\n",
       "<style scoped>\n",
       "    .dataframe tbody tr th:only-of-type {\n",
       "        vertical-align: middle;\n",
       "    }\n",
       "\n",
       "    .dataframe tbody tr th {\n",
       "        vertical-align: top;\n",
       "    }\n",
       "\n",
       "    .dataframe thead th {\n",
       "        text-align: right;\n",
       "    }\n",
       "</style>\n",
       "<table border=\"1\" class=\"dataframe\">\n",
       "  <thead>\n",
       "    <tr style=\"text-align: right;\">\n",
       "      <th></th>\n",
       "      <th>time</th>\n",
       "      <th>participant1</th>\n",
       "      <th>participant2</th>\n",
       "    </tr>\n",
       "  </thead>\n",
       "  <tbody>\n",
       "    <tr>\n",
       "      <th>0</th>\n",
       "      <td>40080</td>\n",
       "      <td>1238</td>\n",
       "      <td>1246</td>\n",
       "    </tr>\n",
       "    <tr>\n",
       "      <th>1</th>\n",
       "      <td>41580</td>\n",
       "      <td>1238</td>\n",
       "      <td>1246</td>\n",
       "    </tr>\n",
       "    <tr>\n",
       "      <th>2</th>\n",
       "      <td>41660</td>\n",
       "      <td>1238</td>\n",
       "      <td>1246</td>\n",
       "    </tr>\n",
       "    <tr>\n",
       "      <th>3</th>\n",
       "      <td>41760</td>\n",
       "      <td>1238</td>\n",
       "      <td>1246</td>\n",
       "    </tr>\n",
       "    <tr>\n",
       "      <th>4</th>\n",
       "      <td>44460</td>\n",
       "      <td>1238</td>\n",
       "      <td>1246</td>\n",
       "    </tr>\n",
       "  </tbody>\n",
       "</table>\n",
       "</div>"
      ],
      "text/plain": [
       "    time  participant1  participant2\n",
       "0  40080          1238          1246\n",
       "1  41580          1238          1246\n",
       "2  41660          1238          1246\n",
       "3  41760          1238          1246\n",
       "4  44460          1238          1246"
      ]
     },
     "execution_count": 5,
     "metadata": {},
     "output_type": "execute_result"
    }
   ],
   "source": [
    "df_contactdata = pd.read_csv(\"lab04-data/hospital-contacts.csv\", sep=\"\\t\")\n",
    "df_contactdata.head()"
   ]
  },
  {
   "cell_type": "markdown",
   "metadata": {},
   "source": [
    "### Task 2"
   ]
  },
  {
   "cell_type": "markdown",
   "metadata": {},
   "source": [
    "Create a weighted undirected network from the two Data Frames, such that:\n",
    "\n",
    "- There is a node for every participant in the study. Each node should have an attribute indicating their \"status\".\n",
    "- Edges between nodes have a \"weight\", indicating the number of times two participants (nodes) have been in contact.\n",
    "\n",
    "What size is the resulting network?"
   ]
  },
  {
   "cell_type": "code",
   "execution_count": 6,
   "metadata": {},
   "outputs": [
    {
     "data": {
      "text/plain": [
       "NodeView((1179, 1232, 1658, 1209, 1098, 1671, 1525, 1535, 1109, 1115, 1142, 1149, 1190, 1193, 1196, 1202, 1207, 1210, 1613, 1632, 1105, 1114, 1116, 1164, 1181, 1205, 1238, 1245, 1246, 1261, 1295, 1485, 1625, 1629, 1100, 1108, 1130, 1148, 1221, 1260, 1157, 1191, 1144, 1152, 1159, 1168, 1660, 1305, 1307, 1320, 1323, 1327, 1332, 1352, 1362, 1363, 1365, 1373, 1374, 1377, 1378, 1383, 1385, 1391, 1393, 1395, 1399, 1401, 1416, 1460, 1469, 1547, 1701, 1702, 1769, 1784, 1513, 1518, 1580, 1590, 1594))"
      ]
     },
     "execution_count": 6,
     "metadata": {},
     "output_type": "execute_result"
    }
   ],
   "source": [
    "import networkx as nx\n",
    "\n",
    "#Create Weighted Undirected Graph of Participants\n",
    "g = nx.Graph()\n",
    "for participant_id, row in df_metadata.iterrows():\n",
    "    g.add_node(participant_id, status=row[\"status\"])\n"
   ]
  },
  {
   "cell_type": "code",
   "execution_count": 8,
   "metadata": {},
   "outputs": [],
   "source": [
    "#Count number of times two participants have been in contact. This will be edge Weight\n",
    "from collections import Counter\n",
    "counts = Counter()\n",
    "for i, row in df_contactdata.iterrows():\n",
    "    node1 = row[\"participant1\"]\n",
    "    node2 = row[\"participant2\"]\n",
    "    pair = frozenset([node1, node2])\n",
    "    counts[pair] += 1"
   ]
  },
  {
   "cell_type": "code",
   "execution_count": 10,
   "metadata": {},
   "outputs": [],
   "source": [
    "#Add Edge weight from Counts\n",
    "for p in counts:\n",
    "    pair = list(p)\n",
    "    node1, node2 = pair[0], pair[1]\n",
    "    g.add_edge(node1, node2, weight=counts[p])"
   ]
  },
  {
   "cell_type": "code",
   "execution_count": 11,
   "metadata": {},
   "outputs": [
    {
     "name": "stdout",
     "output_type": "stream",
     "text": [
      "The network has 81 nodes and 1156 edges\n"
     ]
    }
   ],
   "source": [
    "#View Network Details\n",
    "print(\"The network has %d nodes and %d edges\" % (g.number_of_nodes(), g.number_of_edges()))"
   ]
  },
  {
   "cell_type": "markdown",
   "metadata": {},
   "source": [
    "### Task 3"
   ]
  },
  {
   "cell_type": "markdown",
   "metadata": {},
   "source": [
    "From the network created in Task 2, filter all isolated nodes (i.e. nodes with degree 0)."
   ]
  },
  {
   "cell_type": "code",
   "execution_count": 15,
   "metadata": {},
   "outputs": [
    {
     "data": {
      "text/plain": [
       "[1671, 1632, 1116, 1629, 1152]"
      ]
     },
     "execution_count": 15,
     "metadata": {},
     "output_type": "execute_result"
    }
   ],
   "source": [
    "#Identify number of nodes with degree 0\n",
    "list(nx.isolates(g)) "
   ]
  },
  {
   "cell_type": "code",
   "execution_count": 17,
   "metadata": {},
   "outputs": [],
   "source": [
    "#Remove All Isolated Nodes\n",
    "g.remove_nodes_from(list(nx.isolates(g)))"
   ]
  },
  {
   "cell_type": "code",
   "execution_count": 18,
   "metadata": {},
   "outputs": [
    {
     "name": "stdout",
     "output_type": "stream",
     "text": [
      "The network has 76 nodes and 1156 edges\n"
     ]
    }
   ],
   "source": [
    "#View Network Details\n",
    "print(\"The network has %d nodes and %d edges\" % (g.number_of_nodes(), g.number_of_edges()))"
   ]
  },
  {
   "cell_type": "markdown",
   "metadata": {},
   "source": [
    "### Task 4"
   ]
  },
  {
   "cell_type": "code",
   "execution_count": null,
   "metadata": {},
   "outputs": [],
   "source": []
  },
  {
   "cell_type": "markdown",
   "metadata": {},
   "source": [
    "Export the filtered network from Task 3 as a new GEXF file."
   ]
  },
  {
   "cell_type": "code",
   "execution_count": 19,
   "metadata": {},
   "outputs": [],
   "source": [
    "nx.write_gexf(g, \"hospital.gexf\")"
   ]
  },
  {
   "cell_type": "markdown",
   "metadata": {},
   "source": [
    "### Task 5"
   ]
  },
  {
   "cell_type": "markdown",
   "metadata": {},
   "source": [
    "Load the GEXF file from Task 4 in *Gephi*, and complete the following steps:\n",
    "    \n",
    "1. Colour the nodes in the network, based on their \"status\" attribute, via the *Appearance Panel* on the *Overview* screen.\n",
    "2. Calculate the **weighted degree** of the nodes, via the *Statistics Panel* on the *Overview* screen.\n",
    "3. Scale the size of the nodes, via the *Appearance Panel* on the *Overview* screen, ranked based on their **weighted degree**.\n",
    "4. Apply the **Force Atlas** algorithm to layout the network on the *Overview* screen. Adjust the parameters on the *Layout* panel to improve the network's readability.\n",
    "5. Filter the nodes in the network to only display nodes with the \"status\" attribute equal to \"doctor\", via the *Filters Panel* on the *Overview* screen.\n",
    "6. Use the *Preview* screen to adjust the final appearance of the network, and then export an image of the network as a PNG file."
   ]
  },
  {
   "cell_type": "code",
   "execution_count": null,
   "metadata": {},
   "outputs": [],
   "source": [
    "#See hospital.gephi"
   ]
  }
 ],
 "metadata": {
  "kernelspec": {
   "display_name": "Python 3",
   "language": "python",
   "name": "python3"
  },
  "language_info": {
   "codemirror_mode": {
    "name": "ipython",
    "version": 3
   },
   "file_extension": ".py",
   "mimetype": "text/x-python",
   "name": "python",
   "nbconvert_exporter": "python",
   "pygments_lexer": "ipython3",
   "version": "3.10.9"
  },
  "vscode": {
   "interpreter": {
    "hash": "e7370f93d1d0cde622a1f8e1c04877d8463912d04d973331ad4851f04de6915a"
   }
  }
 },
 "nbformat": 4,
 "nbformat_minor": 2
}
