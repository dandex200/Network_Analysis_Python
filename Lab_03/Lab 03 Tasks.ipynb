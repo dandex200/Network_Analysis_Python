{
 "cells": [
  {
   "cell_type": "markdown",
   "metadata": {},
   "source": [
    "# Lab 03 Tasks"
   ]
  },
  {
   "cell_type": "markdown",
   "metadata": {},
   "source": [
    "The dataset used for this task consists of records of flights retrieved from the [US Bureau of Transportation Statistics website](https://www.transtats.bts.gov) The data covers the period Q1 and Q2 2016, and includes each flight’s origin, destination, along with other metadata. The raw data is provided as a single CSV file (airstats-2016.csv)."
   ]
  },
  {
   "cell_type": "markdown",
   "metadata": {},
   "source": [
    "### Task 1"
   ]
  },
  {
   "cell_type": "markdown",
   "metadata": {},
   "source": [
    "Load the flight record data from the file airstats-2016.csv into a Pandas Data Frame, and apply the following filtering steps to the Data Frame:\n",
    "\n",
    "1. Only include records where the flight origin and destination where both in the United States.\n",
    "2. Only include records from the time periods Q1 2016 and Q2 2016.\n",
    "3. Only include records where the reported distance between the origin and destination was at least 20 miles."
   ]
  },
  {
   "cell_type": "code",
   "execution_count": 2,
   "metadata": {},
   "outputs": [
    {
     "name": "stdout",
     "output_type": "stream",
     "text": [
      "316274 flight records\n"
     ]
    },
    {
     "data": {
      "text/html": [
       "<div>\n",
       "<style scoped>\n",
       "    .dataframe tbody tr th:only-of-type {\n",
       "        vertical-align: middle;\n",
       "    }\n",
       "\n",
       "    .dataframe tbody tr th {\n",
       "        vertical-align: top;\n",
       "    }\n",
       "\n",
       "    .dataframe thead th {\n",
       "        text-align: right;\n",
       "    }\n",
       "</style>\n",
       "<table border=\"1\" class=\"dataframe\">\n",
       "  <thead>\n",
       "    <tr style=\"text-align: right;\">\n",
       "      <th></th>\n",
       "      <th>DISTANCE</th>\n",
       "      <th>UNIQUE_CARRIER</th>\n",
       "      <th>UNIQUE_CARRIER_NAME</th>\n",
       "      <th>ORIGIN_AIRPORT_ID</th>\n",
       "      <th>ORIGIN</th>\n",
       "      <th>ORIGIN_CITY_NAME</th>\n",
       "      <th>ORIGIN_COUNTRY</th>\n",
       "      <th>DEST_AIRPORT_ID</th>\n",
       "      <th>DEST</th>\n",
       "      <th>DEST_CITY_NAME</th>\n",
       "      <th>DEST_COUNTRY</th>\n",
       "      <th>YEAR</th>\n",
       "      <th>QUARTER</th>\n",
       "      <th>MONTH</th>\n",
       "    </tr>\n",
       "  </thead>\n",
       "  <tbody>\n",
       "    <tr>\n",
       "      <th>0</th>\n",
       "      <td>226</td>\n",
       "      <td>UA</td>\n",
       "      <td>United Air Lines Inc.</td>\n",
       "      <td>12889</td>\n",
       "      <td>LAS</td>\n",
       "      <td>Las Vegas, NV</td>\n",
       "      <td>US</td>\n",
       "      <td>14908</td>\n",
       "      <td>SNA</td>\n",
       "      <td>Santa Ana, CA</td>\n",
       "      <td>US</td>\n",
       "      <td>2016</td>\n",
       "      <td>3</td>\n",
       "      <td>9</td>\n",
       "    </tr>\n",
       "    <tr>\n",
       "      <th>1</th>\n",
       "      <td>1943</td>\n",
       "      <td>UA</td>\n",
       "      <td>United Air Lines Inc.</td>\n",
       "      <td>12889</td>\n",
       "      <td>LAS</td>\n",
       "      <td>Las Vegas, NV</td>\n",
       "      <td>US</td>\n",
       "      <td>16271</td>\n",
       "      <td>YYZ</td>\n",
       "      <td>Toronto, Canada</td>\n",
       "      <td>CA</td>\n",
       "      <td>2016</td>\n",
       "      <td>3</td>\n",
       "      <td>9</td>\n",
       "    </tr>\n",
       "    <tr>\n",
       "      <th>2</th>\n",
       "      <td>1814</td>\n",
       "      <td>UA</td>\n",
       "      <td>United Air Lines Inc.</td>\n",
       "      <td>12892</td>\n",
       "      <td>LAX</td>\n",
       "      <td>Los Angeles, CA</td>\n",
       "      <td>US</td>\n",
       "      <td>12339</td>\n",
       "      <td>IND</td>\n",
       "      <td>Indianapolis, IN</td>\n",
       "      <td>US</td>\n",
       "      <td>2016</td>\n",
       "      <td>3</td>\n",
       "      <td>9</td>\n",
       "    </tr>\n",
       "    <tr>\n",
       "      <th>3</th>\n",
       "      <td>1363</td>\n",
       "      <td>UA</td>\n",
       "      <td>United Air Lines Inc.</td>\n",
       "      <td>12892</td>\n",
       "      <td>LAX</td>\n",
       "      <td>Los Angeles, CA</td>\n",
       "      <td>US</td>\n",
       "      <td>13198</td>\n",
       "      <td>MCI</td>\n",
       "      <td>Kansas City, MO</td>\n",
       "      <td>US</td>\n",
       "      <td>2016</td>\n",
       "      <td>3</td>\n",
       "      <td>9</td>\n",
       "    </tr>\n",
       "    <tr>\n",
       "      <th>4</th>\n",
       "      <td>1670</td>\n",
       "      <td>UA</td>\n",
       "      <td>United Air Lines Inc.</td>\n",
       "      <td>12892</td>\n",
       "      <td>LAX</td>\n",
       "      <td>Los Angeles, CA</td>\n",
       "      <td>US</td>\n",
       "      <td>13495</td>\n",
       "      <td>MSY</td>\n",
       "      <td>New Orleans, LA</td>\n",
       "      <td>US</td>\n",
       "      <td>2016</td>\n",
       "      <td>3</td>\n",
       "      <td>9</td>\n",
       "    </tr>\n",
       "    <tr>\n",
       "      <th>5</th>\n",
       "      <td>954</td>\n",
       "      <td>UA</td>\n",
       "      <td>United Air Lines Inc.</td>\n",
       "      <td>12892</td>\n",
       "      <td>LAX</td>\n",
       "      <td>Los Angeles, CA</td>\n",
       "      <td>US</td>\n",
       "      <td>14747</td>\n",
       "      <td>SEA</td>\n",
       "      <td>Seattle, WA</td>\n",
       "      <td>US</td>\n",
       "      <td>2016</td>\n",
       "      <td>3</td>\n",
       "      <td>9</td>\n",
       "    </tr>\n",
       "    <tr>\n",
       "      <th>6</th>\n",
       "      <td>308</td>\n",
       "      <td>UA</td>\n",
       "      <td>United Air Lines Inc.</td>\n",
       "      <td>12892</td>\n",
       "      <td>LAX</td>\n",
       "      <td>Los Angeles, CA</td>\n",
       "      <td>US</td>\n",
       "      <td>14831</td>\n",
       "      <td>SJC</td>\n",
       "      <td>San Jose, CA</td>\n",
       "      <td>US</td>\n",
       "      <td>2016</td>\n",
       "      <td>3</td>\n",
       "      <td>9</td>\n",
       "    </tr>\n",
       "    <tr>\n",
       "      <th>7</th>\n",
       "      <td>590</td>\n",
       "      <td>UA</td>\n",
       "      <td>United Air Lines Inc.</td>\n",
       "      <td>12892</td>\n",
       "      <td>LAX</td>\n",
       "      <td>Los Angeles, CA</td>\n",
       "      <td>US</td>\n",
       "      <td>14869</td>\n",
       "      <td>SLC</td>\n",
       "      <td>Salt Lake City, UT</td>\n",
       "      <td>US</td>\n",
       "      <td>2016</td>\n",
       "      <td>3</td>\n",
       "      <td>9</td>\n",
       "    </tr>\n",
       "    <tr>\n",
       "      <th>8</th>\n",
       "      <td>36</td>\n",
       "      <td>UA</td>\n",
       "      <td>United Air Lines Inc.</td>\n",
       "      <td>12892</td>\n",
       "      <td>LAX</td>\n",
       "      <td>Los Angeles, CA</td>\n",
       "      <td>US</td>\n",
       "      <td>14908</td>\n",
       "      <td>SNA</td>\n",
       "      <td>Santa Ana, CA</td>\n",
       "      <td>US</td>\n",
       "      <td>2016</td>\n",
       "      <td>3</td>\n",
       "      <td>9</td>\n",
       "    </tr>\n",
       "    <tr>\n",
       "      <th>9</th>\n",
       "      <td>1540</td>\n",
       "      <td>UA</td>\n",
       "      <td>United Air Lines Inc.</td>\n",
       "      <td>12953</td>\n",
       "      <td>LGA</td>\n",
       "      <td>New York, NY</td>\n",
       "      <td>US</td>\n",
       "      <td>10558</td>\n",
       "      <td>BFF</td>\n",
       "      <td>Scottsbluff, NE</td>\n",
       "      <td>US</td>\n",
       "      <td>2016</td>\n",
       "      <td>3</td>\n",
       "      <td>9</td>\n",
       "    </tr>\n",
       "  </tbody>\n",
       "</table>\n",
       "</div>"
      ],
      "text/plain": [
       "   DISTANCE UNIQUE_CARRIER    UNIQUE_CARRIER_NAME  ORIGIN_AIRPORT_ID ORIGIN  \\\n",
       "0       226             UA  United Air Lines Inc.              12889    LAS   \n",
       "1      1943             UA  United Air Lines Inc.              12889    LAS   \n",
       "2      1814             UA  United Air Lines Inc.              12892    LAX   \n",
       "3      1363             UA  United Air Lines Inc.              12892    LAX   \n",
       "4      1670             UA  United Air Lines Inc.              12892    LAX   \n",
       "5       954             UA  United Air Lines Inc.              12892    LAX   \n",
       "6       308             UA  United Air Lines Inc.              12892    LAX   \n",
       "7       590             UA  United Air Lines Inc.              12892    LAX   \n",
       "8        36             UA  United Air Lines Inc.              12892    LAX   \n",
       "9      1540             UA  United Air Lines Inc.              12953    LGA   \n",
       "\n",
       "  ORIGIN_CITY_NAME ORIGIN_COUNTRY  DEST_AIRPORT_ID DEST      DEST_CITY_NAME  \\\n",
       "0    Las Vegas, NV             US            14908  SNA       Santa Ana, CA   \n",
       "1    Las Vegas, NV             US            16271  YYZ     Toronto, Canada   \n",
       "2  Los Angeles, CA             US            12339  IND    Indianapolis, IN   \n",
       "3  Los Angeles, CA             US            13198  MCI     Kansas City, MO   \n",
       "4  Los Angeles, CA             US            13495  MSY     New Orleans, LA   \n",
       "5  Los Angeles, CA             US            14747  SEA         Seattle, WA   \n",
       "6  Los Angeles, CA             US            14831  SJC        San Jose, CA   \n",
       "7  Los Angeles, CA             US            14869  SLC  Salt Lake City, UT   \n",
       "8  Los Angeles, CA             US            14908  SNA       Santa Ana, CA   \n",
       "9     New York, NY             US            10558  BFF     Scottsbluff, NE   \n",
       "\n",
       "  DEST_COUNTRY  YEAR  QUARTER  MONTH  \n",
       "0           US  2016        3      9  \n",
       "1           CA  2016        3      9  \n",
       "2           US  2016        3      9  \n",
       "3           US  2016        3      9  \n",
       "4           US  2016        3      9  \n",
       "5           US  2016        3      9  \n",
       "6           US  2016        3      9  \n",
       "7           US  2016        3      9  \n",
       "8           US  2016        3      9  \n",
       "9           US  2016        3      9  "
      ]
     },
     "execution_count": 2,
     "metadata": {},
     "output_type": "execute_result"
    }
   ],
   "source": [
    "import pandas as pd \n",
    "\n",
    "# Load data from CSV file into PD Dataframe\n",
    "df = pd.read_csv(\"lab03-data/airstats-2016.csv\")\n",
    "print( \"%d flight records\" % len(df))\n",
    "df.head(10)"
   ]
  },
  {
   "cell_type": "code",
   "execution_count": 7,
   "metadata": {},
   "outputs": [
    {
     "name": "stdout",
     "output_type": "stream",
     "text": [
      "Total Rows: 316274\n",
      "Number of Rows With Flights with Origin outside of US: 282104\n",
      "Number of Rows With Flights with Destination outside of US: 280512\n"
     ]
    }
   ],
   "source": [
    "print(\"Total Rows: %d\" % (len(df)))\n",
    "print(\"Number of Rows With Flights with Origin outside of US: %d\" % (df['ORIGIN_COUNTRY'].value_counts()['US']))\n",
    "print(\"Number of Rows With Flights with Destination outside of US: %d\" % (df['DEST_COUNTRY'].value_counts()['US']))"
   ]
  },
  {
   "cell_type": "code",
   "execution_count": 10,
   "metadata": {},
   "outputs": [
    {
     "name": "stdout",
     "output_type": "stream",
     "text": [
      "Total Rows: 246342\n"
     ]
    }
   ],
   "source": [
    "df = df[(df['ORIGIN_COUNTRY'] == 'US') & (df['DEST_COUNTRY'] == 'US')]\n",
    "print(\"Total Rows: %d\" % (len(df)))\n"
   ]
  },
  {
   "cell_type": "code",
   "execution_count": 12,
   "metadata": {},
   "outputs": [
    {
     "name": "stdout",
     "output_type": "stream",
     "text": [
      "Total Rows: 120750\n"
     ]
    }
   ],
   "source": [
    "df = df[(df['QUARTER']<3)]\n",
    "print(\"Total Rows: %d\" % (len(df)))\n"
   ]
  },
  {
   "cell_type": "code",
   "execution_count": 13,
   "metadata": {},
   "outputs": [
    {
     "name": "stdout",
     "output_type": "stream",
     "text": [
      "Total Rows: 119038\n"
     ]
    }
   ],
   "source": [
    "df = df[(df['DISTANCE']>=20)]\n",
    "print(\"Total Rows: %d\" % (len(df)))\n"
   ]
  },
  {
   "cell_type": "markdown",
   "metadata": {},
   "source": [
    "### Task 2"
   ]
  },
  {
   "cell_type": "markdown",
   "metadata": {},
   "source": [
    "Create an **unweighted directed** network from the Pandas Data Frame.\n",
    "\n",
    "Use the three letter IATA airport codes for the origin and destination as the node identifiers. Also add the airport’s city name as an attribute for each node."
   ]
  },
  {
   "cell_type": "code",
   "execution_count": 14,
   "metadata": {},
   "outputs": [],
   "source": [
    "import networkx as nx\n",
    "\n",
    "origins = set(df['ORIGIN'].unique())\n",
    "destinations = set(df['DEST'].unique())\n",
    "airports = origins.union(destinations)"
   ]
  },
  {
   "cell_type": "code",
   "execution_count": 15,
   "metadata": {},
   "outputs": [],
   "source": [
    "city_names = {}\n",
    "for i, row in df.iterrows():\n",
    "    city_names[row['ORIGIN']] = row['ORIGIN_CITY_NAME']\n",
    "    city_names[row['DEST']] = row['DEST_CITY_NAME']\n",
    "\n"
   ]
  },
  {
   "cell_type": "code",
   "execution_count": 20,
   "metadata": {},
   "outputs": [],
   "source": [
    "#Create Directed Graph\n",
    "g = nx.DiGraph()\n",
    "nodes = sorted(list(airports))\n",
    "for node in nodes: \n",
    "    g.add_node(node, city=city_names[node])"
   ]
  },
  {
   "cell_type": "code",
   "execution_count": 21,
   "metadata": {},
   "outputs": [],
   "source": [
    "for i, row in df.iterrows():\n",
    "    node1 = row['ORIGIN']\n",
    "    node2 = row['DEST']\n",
    "    if node1 == node2:\n",
    "        continue\n",
    "    g.add_edge(node1, node2)"
   ]
  },
  {
   "cell_type": "markdown",
   "metadata": {},
   "source": [
    "### Task 3"
   ]
  },
  {
   "cell_type": "markdown",
   "metadata": {},
   "source": [
    "Characterise the unweighted directed network from Task 3, looking at:\n",
    "      \n",
    "1. How many nodes and edges are in the network?\n",
    "2. The connectedness of the network (i.e. density and number of components).\n",
    "3. Identify frequent origin and destination airports in the network (i.e. in-degree and out-degreee)\n",
    "4. Identify key hub airports in the network (i.e. betweenness)"
   ]
  },
  {
   "cell_type": "code",
   "execution_count": 23,
   "metadata": {},
   "outputs": [
    {
     "name": "stdout",
     "output_type": "stream",
     "text": [
      "There are 1043 nodes and 17644 edges in the network.\n"
     ]
    }
   ],
   "source": [
    "print(\"There are %d nodes and %d edges in the network.\" % (g.number_of_nodes(), g.number_of_edges()))"
   ]
  },
  {
   "cell_type": "code",
   "execution_count": 24,
   "metadata": {},
   "outputs": [
    {
     "data": {
      "text/plain": [
       "0.01623472818515908"
      ]
     },
     "execution_count": 24,
     "metadata": {},
     "output_type": "execute_result"
    }
   ],
   "source": [
    "nx.density(g)"
   ]
  },
  {
   "cell_type": "code",
   "execution_count": 26,
   "metadata": {},
   "outputs": [
    {
     "data": {
      "text/plain": [
       "92"
      ]
     },
     "execution_count": 26,
     "metadata": {},
     "output_type": "execute_result"
    }
   ],
   "source": [
    "nx.number_strongly_connected_components(g)"
   ]
  },
  {
   "cell_type": "code",
   "execution_count": 27,
   "metadata": {},
   "outputs": [],
   "source": [
    "s_in = pd.Series( dict(g.in_degree()) )\n",
    "s_out = pd.Series( dict(g.out_degree()) )"
   ]
  },
  {
   "cell_type": "code",
   "execution_count": 28,
   "metadata": {},
   "outputs": [
    {
     "data": {
      "text/plain": [
       "ORD    200\n",
       "ATL    187\n",
       "DEN    184\n",
       "DFW    176\n",
       "MSP    175\n",
       "LAS    155\n",
       "MEM    152\n",
       "SDF    151\n",
       "IAH    151\n",
       "LAX    147\n",
       "dtype: int64"
      ]
     },
     "execution_count": 28,
     "metadata": {},
     "output_type": "execute_result"
    }
   ],
   "source": [
    "s_in.sort_values(ascending=False).head(10)"
   ]
  },
  {
   "cell_type": "code",
   "execution_count": 29,
   "metadata": {},
   "outputs": [
    {
     "data": {
      "text/plain": [
       "ORD    205\n",
       "ATL    193\n",
       "DEN    187\n",
       "ANC    183\n",
       "DFW    175\n",
       "MSP    171\n",
       "MEM    162\n",
       "LAS    162\n",
       "DTW    152\n",
       "LAX    151\n",
       "dtype: int64"
      ]
     },
     "execution_count": 29,
     "metadata": {},
     "output_type": "execute_result"
    }
   ],
   "source": [
    "s_out.sort_values(ascending=False).head(10)"
   ]
  },
  {
   "cell_type": "code",
   "execution_count": 30,
   "metadata": {},
   "outputs": [
    {
     "data": {
      "text/plain": [
       "ANC    0.281623\n",
       "FAI    0.078011\n",
       "SEA    0.068236\n",
       "HPN    0.064631\n",
       "ORD    0.058346\n",
       "DEN    0.052816\n",
       "MSP    0.046166\n",
       "ADQ    0.035831\n",
       "DFW    0.033752\n",
       "ATL    0.033084\n",
       "dtype: float64"
      ]
     },
     "execution_count": 30,
     "metadata": {},
     "output_type": "execute_result"
    }
   ],
   "source": [
    "s_bet = pd.Series(nx.betweenness_centrality(g))\n",
    "s_bet.sort_values(ascending=False).head(10)"
   ]
  },
  {
   "cell_type": "markdown",
   "metadata": {},
   "source": [
    "### Task 4"
   ]
  },
  {
   "cell_type": "markdown",
   "metadata": {},
   "source": [
    "Now create an alternative **weighted directed** network from the Pandas Data Frame."
   ]
  },
  {
   "cell_type": "code",
   "execution_count": 37,
   "metadata": {},
   "outputs": [],
   "source": [
    "g2 = nx.DiGraph()\n",
    "nodes = list(airports)\n",
    "nodes.sort()\n",
    "for node in nodes:\n",
    "    g2.add_node(node, city=city_names[node])"
   ]
  },
  {
   "cell_type": "code",
   "execution_count": 38,
   "metadata": {},
   "outputs": [],
   "source": [
    "from collections import Counter\n",
    "\n",
    "freqs = Counter()\n",
    "\n",
    "for i, rows in df.iterrows():\n",
    "    node1 = row[\"ORIGIN\"]\n",
    "    node2 = row[\"DEST\"]\n",
    "    if node1 == node2:\n",
    "        continue\n",
    "    pair = (node1, node2)\n",
    "    freqs[pair] += 1"
   ]
  },
  {
   "cell_type": "code",
   "execution_count": 39,
   "metadata": {},
   "outputs": [
    {
     "name": "stdout",
     "output_type": "stream",
     "text": [
      "There are 1043 nodes and 1 edges in the network.\n"
     ]
    }
   ],
   "source": [
    "for pair in freqs:\n",
    "    g2.add_edge(pair[0], pair[1], weight=freqs[pair])\n",
    "print(\"There are %d nodes and %d edges in the network.\" % (g2.number_of_nodes(), g2.number_of_edges()))"
   ]
  },
  {
   "cell_type": "markdown",
   "metadata": {},
   "source": [
    "### Task 5"
   ]
  },
  {
   "cell_type": "markdown",
   "metadata": {},
   "source": [
    "Based on the weighted directed network, identify:\n",
    "    \n",
    "1. The most frequent routes in the network.\n",
    "2. The most frequent origin and destination airports in the network, considering edge weights."
   ]
  },
  {
   "cell_type": "code",
   "execution_count": null,
   "metadata": {},
   "outputs": [],
   "source": [
    "weights = {}\n"
   ]
  }
 ],
 "metadata": {
  "kernelspec": {
   "display_name": "Python 3",
   "language": "python",
   "name": "python3"
  },
  "language_info": {
   "codemirror_mode": {
    "name": "ipython",
    "version": 3
   },
   "file_extension": ".py",
   "mimetype": "text/x-python",
   "name": "python",
   "nbconvert_exporter": "python",
   "pygments_lexer": "ipython3",
   "version": "3.10.9"
  },
  "vscode": {
   "interpreter": {
    "hash": "e7370f93d1d0cde622a1f8e1c04877d8463912d04d973331ad4851f04de6915a"
   }
  }
 },
 "nbformat": 4,
 "nbformat_minor": 2
}
