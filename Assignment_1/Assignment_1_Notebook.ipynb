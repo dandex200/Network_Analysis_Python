{
 "cells": [
  {
   "cell_type": "code",
   "execution_count": 4,
   "metadata": {},
   "outputs": [],
   "source": [
    "#Imports\n",
    "import pandas as pd\n",
    "import networkx as nx\n",
    "import json\n",
    "#FilePaths\n",
    "dataset_1 = \"19202103/19202103-dataset1.json\"\n",
    "dataset_2 = \"19202103/19202103-dataset2.json\""
   ]
  },
  {
   "cell_type": "code",
   "execution_count": 14,
   "metadata": {},
   "outputs": [],
   "source": [
    "#Load JSON File for Dataset 1\n",
    "with open(dataset_1, \"r\") as d1: \n",
    "    data = json.loads(d1.read())\n",
    "#Create Graph 1 For Dataset 1\n",
    "g_1 = nx.Graph()\n",
    "#Add all Actor's Names as individual Nodes to Graph 1\n",
    "g_1.add_nodes_from(elem[\"name\"] for elem in data)\n"
   ]
  },
  {
   "cell_type": "code",
   "execution_count": 17,
   "metadata": {},
   "outputs": [
    {
     "data": {
      "text/plain": [
       "NodeView(('Keira Knightley', 'Sigourney Weaver', 'Jamie Lee Curtis', 'Al Pacino', 'Danny DeVito', 'Karan Soni', 'Viola Davis', 'Brendan Gleeson', 'Ralph Fiennes', 'Gabriel Byrne', 'Helen McCrory', 'Sam Rockwell', 'Colin Farrell', 'Olivia Colman', 'Paul Rudd', 'Kati Outinen', 'Richard Griffiths', 'Ron Perlman', 'Rod Steiger', 'Billy Dee Williams', 'Franka Potente', 'Alexander Skarsgård', 'Colm Meaney', 'Mickey Rourke', 'Gary Oldman', 'Terry Crews', 'Kelly Marie Tran', 'Peter McDonald', \"Peter O'Toole\", 'Will Smith', 'Meryl Streep', 'Daniel Day-Lewis', 'Sharlto Copley', 'Mahershala Ali', 'Jane Fonda', 'Anthony Mackie', 'Rachel Weisz', 'Dev Patel', 'Kathy Bates', 'Sandra Bullock', 'James Phelps', 'Steve Zahn', 'Matthew Perry', 'Robert De Niro', 'Whoopi Goldberg', 'Bruce Willis', 'Lee Marvin', 'Jamie Dornan', 'Philip Seymour Hoffman', 'Rosario Dawson', 'Scarlett Johansson', 'Gwendoline Christie', \"Brían F. O'Byrne\", 'Seann William Scott', 'Mads Mikkelsen', 'Liev Schreiber', 'Christopher Walken', \"Lupita Nyong'o\", 'Tom Hardy', 'Demi Moore', 'Devon Murray', 'Ciarán Hinds', 'Jennifer Aniston', 'Will Ferrell', 'Nicole Kidman', 'Miranda Otto', 'Henry Fonda', 'Jennifer Connelly', 'Peter Coonan', 'Rex Harrison', 'Son Ye-jin', 'Sidney Poitier', 'Taron Egerton', 'Anthony Hopkins', 'Paul Newman', 'Debra Messing', 'Kerry Condon', 'Michelle Monaghan', 'Jennifer Lopez', 'Leslie Mann', 'Andie MacDowell', 'Laura Dern', 'Anamaria Marinca', 'David Thewlis', 'Audrey Tautou', 'Maggie Gyllenhaal', 'Elizabeth Olsen', 'Helena Bonham Carter', 'Timothée Chalamet', 'Justin Theroux', 'Stephen Rea', 'Juliane Köhler', 'Kirsten Dunst', 'Joan Allen', 'Melissa McCarthy', 'Jon Hamm', 'Kristen Wiig', 'Jared Harris', 'Ewan McGregor', 'Seth Rogen', 'Chris Rock', 'Derek Luke', 'Taraneh Alidoosti', 'Rebel Wilson', 'Katherine Heigl', 'Dustin Hoffman', 'Samantha Morton', 'Billy Bob Thornton', 'Forest Whitaker', 'Abigail Breslin', 'Jet Li', 'Joe Nunez', 'John Malkovich', 'Michael McElhatton', 'John Boyega', 'J.K. Simmons', 'Geena Davis', 'Kate Winslet', 'Holly Hunter', 'Jason Isaacs', 'Diane Kruger', 'Joe Pesci', \"Vincent D'Onofrio\", 'Cate Blanchett', 'Robert Sheehan', 'Hugo Weaving', 'Soha Ali Khan', 'Stuart Townsend', 'Michael Douglas', 'Emma Thompson', 'Jennifer Jason Leigh', 'Gregory Peck', 'Clint Eastwood', 'Julie Walters', 'Bette Midler', 'Nicolas Cage', 'Cliff Robertson', 'F. Murray Abraham', 'Peter Stormare', 'Maximilian Schell', 'Faye Dunaway', 'Jean Dujardin', 'Vincent Cassel', 'Carrie-Anne Moss', 'Patrick Wilson', 'Adam Sandler', 'Colin Firth', 'Maggie Smith', 'Jennifer Lawrence', 'Ginnifer Goodwin', 'Daniel Radcliffe', 'Sean Penn', 'Helen Mirren', 'Woody Harrelson', 'Patricia Clarkson', 'Dolph Lundgren', 'Jessica Lange', 'Mark Dunne', 'Joaquin Phoenix', 'Kenneth Choi', 'Anna Faris', 'Judy Greer', 'Goldie Hawn', 'Liam Cunningham', 'Steve Carell', 'Oliver Phelps', 'Amy Ryan', 'Cillian Murphy', 'Natalie Portman', 'Broderick Crawford', 'Alec Guinness', 'Anthony Daniels', 'Jeremy Irons', 'Mark Strong', 'Tina Fey', 'Frances McDormand', 'Tom Wilkinson', 'Nikolaj Coster-Waldau', 'Ian Hart', 'Laurence Fishburne', 'Michael Cera', 'Seána Kerslake', 'José Ferrer', 'Richard Jenkins', 'Julia Roberts', 'Josh Brolin', 'Kang Hye-jeong', 'Jennifer Coolidge', 'Leonor Watling', 'Sam Neill', 'Jesse Eisenberg', 'Marion Cotillard'))"
      ]
     },
     "execution_count": 17,
     "metadata": {},
     "output_type": "execute_result"
    }
   ],
   "source": []
  }
 ],
 "metadata": {
  "kernelspec": {
   "display_name": "Python 3",
   "language": "python",
   "name": "python3"
  },
  "language_info": {
   "codemirror_mode": {
    "name": "ipython",
    "version": 3
   },
   "file_extension": ".py",
   "mimetype": "text/x-python",
   "name": "python",
   "nbconvert_exporter": "python",
   "pygments_lexer": "ipython3",
   "version": "3.10.9"
  },
  "orig_nbformat": 4,
  "vscode": {
   "interpreter": {
    "hash": "e7370f93d1d0cde622a1f8e1c04877d8463912d04d973331ad4851f04de6915a"
   }
  }
 },
 "nbformat": 4,
 "nbformat_minor": 2
}
